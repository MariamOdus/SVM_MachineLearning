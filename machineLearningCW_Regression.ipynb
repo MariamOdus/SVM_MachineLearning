{
 "cells": [
  {
   "metadata": {
    "ExecuteTime": {
     "end_time": "2024-11-07T13:54:36.144605Z",
     "start_time": "2024-11-07T13:54:36.137127Z"
    }
   },
   "cell_type": "code",
   "source": [
    "#Library imports\n",
    "import pandas as pd\n",
    "import seaborn as sns\n",
    "import matplotlib.pyplot as plt\n",
    "import numpy as np\n",
    "from sklearn.svm import SVC\n",
    "from sklearn.model_selection import train_test_split\n"
   ],
   "id": "894cfaba5cf4450d",
   "outputs": [],
   "execution_count": 3
  },
  {
   "metadata": {
    "ExecuteTime": {
     "end_time": "2024-11-07T14:17:14.932702Z",
     "start_time": "2024-11-07T14:17:14.911698Z"
    }
   },
   "cell_type": "code",
   "source": [
    "# Define column names as they appear in the data file\n",
    "column_names = [\"Symboling\", \"Normalized-losses\", \"Make\", \"Fuel-type\", \"Aspiration\",\"Num-of-doors\", \"Body-style\", \"Drive-wheels\", \"Engine-location\",\"Wheel-base\", \"Length\", \"Width\", \"Height\", \"Curb-weight\",\"Engine-type\", \"Num-of-cylinders\", \"Engine-size\", \"Fuel-system\",\"Bore\", \"Stroke\", \"Compression-ratio\", \"Horsepower\", \"Peak-rpm\",\"City-mpg\", \"Highway-mpg\", \"Price\"]\n",
    "\n",
    "cell_df = pd.read_csv(\"imports-85.data\", names=column_names, na_values=\"?\")\n",
    "cell_df = cell_df.dropna()\n",
    "cell_df.columns = cell_df.columns.str.strip()\n",
    "\n",
    "# Verify the DataFrame columns after loading\n",
    "print(\"Columns in DataFrame after loading and cleaning:\")\n",
    "print(cell_df.columns)"
   ],
   "id": "a8c7a4696cc4bf1b",
   "outputs": [
    {
     "name": "stdout",
     "output_type": "stream",
     "text": [
      "Columns in DataFrame after loading and cleaning:\n",
      "Index(['Symboling', 'Normalized-losses', 'Make', 'Fuel-type', 'Aspiration',\n",
      "       'Num-of-doors', 'Body-style', 'Drive-wheels', 'Engine-location',\n",
      "       'Wheel-base', 'Length', 'Width', 'Height', 'Curb-weight', 'Engine-type',\n",
      "       'Num-of-cylinders', 'Engine-size', 'Fuel-system', 'Bore', 'Stroke',\n",
      "       'Compression-ratio', 'Horsepower', 'Peak-rpm', 'City-mpg',\n",
      "       'Highway-mpg', 'Price'],\n",
      "      dtype='object')\n"
     ]
    }
   ],
   "execution_count": 39
  },
  {
   "metadata": {
    "ExecuteTime": {
     "end_time": "2024-11-07T14:17:20.572630Z",
     "start_time": "2024-11-07T14:17:20.543002Z"
    }
   },
   "cell_type": "code",
   "source": [
    "# Explore initial data overview\n",
    "print(cell_df.describe())\n",
    "print(cell_df.info())\n",
    "print(cell_df.isnull().sum())  # Check for missing values"
   ],
   "id": "778616ec4efdc1ac",
   "outputs": [
    {
     "name": "stdout",
     "output_type": "stream",
     "text": [
      "        Symboling  Normalized-losses  Wheel-base      Length       Width  \\\n",
      "count  159.000000         159.000000  159.000000  159.000000  159.000000   \n",
      "mean     0.735849         121.132075   98.264151  172.413836   65.607547   \n",
      "std      1.193086          35.651285    5.167416   11.523177    1.947883   \n",
      "min     -2.000000          65.000000   86.600000  141.100000   60.300000   \n",
      "25%      0.000000          94.000000   94.500000  165.650000   64.000000   \n",
      "50%      1.000000         113.000000   96.900000  172.400000   65.400000   \n",
      "75%      2.000000         148.000000  100.800000  177.800000   66.500000   \n",
      "max      3.000000         256.000000  115.600000  202.600000   71.700000   \n",
      "\n",
      "           Height  Curb-weight  Engine-size        Bore      Stroke  \\\n",
      "count  159.000000   159.000000   159.000000  159.000000  159.000000   \n",
      "mean    53.899371  2461.138365   119.226415    3.300126    3.236352   \n",
      "std      2.268761   481.941321    30.460791    0.267336    0.294888   \n",
      "min     49.400000  1488.000000    61.000000    2.540000    2.070000   \n",
      "25%     52.250000  2065.500000    97.000000    3.050000    3.105000   \n",
      "50%     54.100000  2340.000000   110.000000    3.270000    3.270000   \n",
      "75%     55.500000  2809.500000   135.000000    3.560000    3.410000   \n",
      "max     59.800000  4066.000000   258.000000    3.940000    4.170000   \n",
      "\n",
      "       Compression-ratio  Horsepower     Peak-rpm    City-mpg  Highway-mpg  \\\n",
      "count         159.000000  159.000000   159.000000  159.000000   159.000000   \n",
      "mean           10.161132   95.836478  5113.836478   26.522013    32.081761   \n",
      "std             3.889475   30.718583   465.754864    6.097142     6.459189   \n",
      "min             7.000000   48.000000  4150.000000   15.000000    18.000000   \n",
      "25%             8.700000   69.000000  4800.000000   23.000000    28.000000   \n",
      "50%             9.000000   88.000000  5200.000000   26.000000    32.000000   \n",
      "75%             9.400000  114.000000  5500.000000   31.000000    37.000000   \n",
      "max            23.000000  200.000000  6600.000000   49.000000    54.000000   \n",
      "\n",
      "              Price  \n",
      "count    159.000000  \n",
      "mean   11445.729560  \n",
      "std     5877.856195  \n",
      "min     5118.000000  \n",
      "25%     7372.000000  \n",
      "50%     9233.000000  \n",
      "75%    14719.500000  \n",
      "max    35056.000000  \n",
      "<class 'pandas.core.frame.DataFrame'>\n",
      "Index: 159 entries, 3 to 204\n",
      "Data columns (total 26 columns):\n",
      " #   Column             Non-Null Count  Dtype  \n",
      "---  ------             --------------  -----  \n",
      " 0   Symboling          159 non-null    int64  \n",
      " 1   Normalized-losses  159 non-null    float64\n",
      " 2   Make               159 non-null    object \n",
      " 3   Fuel-type          159 non-null    object \n",
      " 4   Aspiration         159 non-null    object \n",
      " 5   Num-of-doors       159 non-null    object \n",
      " 6   Body-style         159 non-null    object \n",
      " 7   Drive-wheels       159 non-null    object \n",
      " 8   Engine-location    159 non-null    object \n",
      " 9   Wheel-base         159 non-null    float64\n",
      " 10  Length             159 non-null    float64\n",
      " 11  Width              159 non-null    float64\n",
      " 12  Height             159 non-null    float64\n",
      " 13  Curb-weight        159 non-null    int64  \n",
      " 14  Engine-type        159 non-null    object \n",
      " 15  Num-of-cylinders   159 non-null    object \n",
      " 16  Engine-size        159 non-null    int64  \n",
      " 17  Fuel-system        159 non-null    object \n",
      " 18  Bore               159 non-null    float64\n",
      " 19  Stroke             159 non-null    float64\n",
      " 20  Compression-ratio  159 non-null    float64\n",
      " 21  Horsepower         159 non-null    float64\n",
      " 22  Peak-rpm           159 non-null    float64\n",
      " 23  City-mpg           159 non-null    int64  \n",
      " 24  Highway-mpg        159 non-null    int64  \n",
      " 25  Price              159 non-null    float64\n",
      "dtypes: float64(11), int64(5), object(10)\n",
      "memory usage: 33.5+ KB\n",
      "None\n",
      "Symboling            0\n",
      "Normalized-losses    0\n",
      "Make                 0\n",
      "Fuel-type            0\n",
      "Aspiration           0\n",
      "Num-of-doors         0\n",
      "Body-style           0\n",
      "Drive-wheels         0\n",
      "Engine-location      0\n",
      "Wheel-base           0\n",
      "Length               0\n",
      "Width                0\n",
      "Height               0\n",
      "Curb-weight          0\n",
      "Engine-type          0\n",
      "Num-of-cylinders     0\n",
      "Engine-size          0\n",
      "Fuel-system          0\n",
      "Bore                 0\n",
      "Stroke               0\n",
      "Compression-ratio    0\n",
      "Horsepower           0\n",
      "Peak-rpm             0\n",
      "City-mpg             0\n",
      "Highway-mpg          0\n",
      "Price                0\n",
      "dtype: int64\n"
     ]
    }
   ],
   "execution_count": 40
  },
  {
   "metadata": {
    "ExecuteTime": {
     "end_time": "2024-11-07T14:19:00.012497Z",
     "start_time": "2024-11-07T14:18:59.977727Z"
    }
   },
   "cell_type": "code",
   "source": [
    "# Define categorical, numerical, and ordinal features\n",
    "categorical_features = [\n",
    "    'Fuel-system', 'Num-of-cylinders', 'Engine-type', 'Engine-location',\n",
    "    'Drive-wheels', 'Body-style', 'Aspiration', 'Fuel-type', 'Make'\n",
    "]\n",
    "numerical_features = [\n",
    "    'Highway-mpg', 'City-mpg', 'Peak-rpm', 'Horsepower', 'Compression-ratio',\n",
    "    'Stroke', 'Bore', 'Engine-size', 'Curb-weight', 'Height', 'Width',\n",
    "    'Length', 'Wheel-base', 'Normalized-losses'\n",
    "]\n",
    "ordinal_features = ['Num-of-doors']\n",
    "\n",
    "# Ensure all columns are correctly loaded\n",
    "print(\"Columns in cell_df:\", cell_df.columns.tolist())\n",
    "\n",
    "# Check for any missing categorical features\n",
    "missing_categorical_features = [col for col in categorical_features if col not in cell_df.columns]\n",
    "if missing_categorical_features:\n",
    "    print(\"Warning: The following categorical features are missing in cell_df:\", missing_categorical_features)\n",
    "else:\n",
    "    # Apply one-hot encoding to categorical features\n",
    "    cell_df = pd.get_dummies(cell_df, columns=categorical_features)\n",
    "    print(\"One-hot encoding successful. DataFrame shape after encoding:\", cell_df.shape)\n",
    "\n",
    "# Check for any missing ordinal features\n",
    "missing_ordinal_features = [col for col in ordinal_features if col not in cell_df.columns]\n",
    "if missing_ordinal_features:\n",
    "    print(\"Warning: The following ordinal features are missing in cell_df:\", missing_ordinal_features)\n",
    "else:\n",
    "    # Apply ordinal encoding to ordinal features\n",
    "    from sklearn.preprocessing import OrdinalEncoder\n",
    "    ordinal_encoder = OrdinalEncoder()\n",
    "    cell_df[ordinal_features] = ordinal_encoder.fit_transform(cell_df[ordinal_features])\n",
    "    print(\"Ordinal encoding successful.\")\n"
   ],
   "id": "7b399e228843d8e",
   "outputs": [
    {
     "name": "stdout",
     "output_type": "stream",
     "text": [
      "Columns in cell_df: ['Symboling', 'Normalized-losses', 'Num-of-doors', 'Wheel-base', 'Length', 'Width', 'Height', 'Curb-weight', 'Engine-size', 'Bore', 'Stroke', 'Compression-ratio', 'Horsepower', 'Peak-rpm', 'City-mpg', 'Highway-mpg', 'Price', 'Fuel-system_1bbl', 'Fuel-system_2bbl', 'Fuel-system_idi', 'Fuel-system_mfi', 'Fuel-system_mpfi', 'Fuel-system_spdi', 'Num-of-cylinders_eight', 'Num-of-cylinders_five', 'Num-of-cylinders_four', 'Num-of-cylinders_six', 'Num-of-cylinders_three', 'Engine-type_dohc', 'Engine-type_l', 'Engine-type_ohc', 'Engine-type_ohcf', 'Engine-type_ohcv', 'Engine-location_front', 'Drive-wheels_4wd', 'Drive-wheels_fwd', 'Drive-wheels_rwd', 'Body-style_convertible', 'Body-style_hardtop', 'Body-style_hatchback', 'Body-style_sedan', 'Body-style_wagon', 'Aspiration_std', 'Aspiration_turbo', 'Fuel-type_diesel', 'Fuel-type_gas', 'Make_audi', 'Make_bmw', 'Make_chevrolet', 'Make_dodge', 'Make_honda', 'Make_jaguar', 'Make_mazda', 'Make_mercedes-benz', 'Make_mitsubishi', 'Make_nissan', 'Make_peugot', 'Make_plymouth', 'Make_porsche', 'Make_saab', 'Make_subaru', 'Make_toyota', 'Make_volkswagen', 'Make_volvo']\n",
      "Warning: The following categorical features are missing in cell_df: ['Fuel-system', 'Num-of-cylinders', 'Engine-type', 'Engine-location', 'Drive-wheels', 'Body-style', 'Aspiration', 'Fuel-type', 'Make']\n",
      "Ordinal encoding successful.\n"
     ]
    }
   ],
   "execution_count": 47
  },
  {
   "metadata": {
    "ExecuteTime": {
     "end_time": "2024-11-07T14:18:35.570883Z",
     "start_time": "2024-11-07T14:18:35.524875Z"
    }
   },
   "cell_type": "code",
   "source": [
    "#Defining what we want to predict  and features\n",
    "X = cell_df.drop(columns=['Symboling'])  \n",
    "y = cell_df['Symboling']\n",
    "\n",
    "X_train, X_test, y_train, y_test = train_test_split(X, y, test_size=0.2, random_state=42)\n"
   ],
   "id": "5d1f402192a144ba",
   "outputs": [],
   "execution_count": 42
  },
  {
   "metadata": {
    "ExecuteTime": {
     "end_time": "2024-11-07T14:18:37.683460Z",
     "start_time": "2024-11-07T14:18:37.659801Z"
    }
   },
   "cell_type": "code",
   "source": [
    "# Feature Normalization for numerical features\n",
    "from sklearn.preprocessing import StandardScaler\n",
    "\n",
    "scaler = StandardScaler()\n",
    "X_train = scaler.fit_transform(X_train)\n",
    "X_test = scaler.transform(X_test)\n",
    "\n",
    "# Check unique values in y_train\n",
    "print(\"Unique values in y_train:\", y_train.unique())\n"
   ],
   "id": "382b7972c9d26e9f",
   "outputs": [
    {
     "name": "stdout",
     "output_type": "stream",
     "text": [
      "Unique values in y_train: [ 3  1 -1  0  2 -2]\n"
     ]
    }
   ],
   "execution_count": 43
  },
  {
   "metadata": {
    "ExecuteTime": {
     "end_time": "2024-11-07T14:18:40.407280Z",
     "start_time": "2024-11-07T14:18:40.392988Z"
    }
   },
   "cell_type": "code",
   "source": [
    "#Implementing the SVR model\n",
    "from sklearn.svm import SVR\n",
    "\n",
    "svr_model = SVR(kernel='rbf', C=10, gamma=0.01)\n",
    "svr_model.fit(X_train, y_train)\n",
    "\n",
    "# Predict on test data\n",
    "y_pred = svr_model.predict(X_test)"
   ],
   "id": "7677b6f9517fe97f",
   "outputs": [],
   "execution_count": 44
  },
  {
   "metadata": {
    "ExecuteTime": {
     "end_time": "2024-11-07T14:18:43.184877Z",
     "start_time": "2024-11-07T14:18:42.751518Z"
    }
   },
   "cell_type": "code",
   "source": [
    "# Evaluate the model\n",
    "from sklearn.metrics import mean_squared_error, r2_score\n",
    "from sklearn.model_selection import cross_val_score\n",
    "\n",
    "mse = mean_squared_error(y_test, y_pred)\n",
    "r2 = r2_score(y_test, y_pred)\n",
    "\n",
    "print(\"Mean Squared Error:\", mse)\n",
    "print(\"R-squared:\", r2)\n",
    "\n",
    "from sklearn.model_selection import cross_val_score\n",
    "\n",
    "# Perform 5-fold cross-validation with a regression metric\n",
    "cv_scores = cross_val_score(svr_model, X_train, y_train, cv=5, scoring='neg_mean_squared_error')\n",
    "\n",
    "# Print the individual fold scores and the average score\n",
    "print(\"Cross-validation MSE scores for each fold:\", cv_scores)\n",
    "print(\"Average cross-validation MSE score:\", cv_scores.mean())\n",
    "\n",
    "\n",
    "plt.figure(figsize=(8, 6))\n",
    "plt.scatter(y_test, y_pred, alpha=0.5, color='blue')\n",
    "plt.plot([y_test.min(), y_test.max()], [y_test.min(), y_test.max()], 'k--', lw=2)\n",
    "plt.xlabel(\"Actual Values\")\n",
    "plt.ylabel(\"Predicted Values\")\n",
    "plt.title(\"Predicted vs. Actual Values\")\n",
    "plt.show()"
   ],
   "id": "130e96341fd261d3",
   "outputs": [
    {
     "name": "stdout",
     "output_type": "stream",
     "text": [
      "Mean Squared Error: 0.30180904616888976\n",
      "R-squared: 0.7943762719381616\n",
      "Cross-validation MSE scores for each fold: [-0.48226491 -0.42621479 -0.37032624 -0.35956427 -0.76987246]\n",
      "Average cross-validation MSE score: -0.48164853430679494\n"
     ]
    },
    {
     "data": {
      "text/plain": [
       "<Figure size 800x600 with 1 Axes>"
      ],
      "image/png": "[encoded data removed]"
     },
     "metadata": {},
     "output_type": "display_data"
    }
   ],
   "execution_count": 45
  }
 ],
 "metadata": {
  "kernelspec": {
   "display_name": "Python 3",
   "language": "python",
   "name": "python3"
  },
  "language_info": {
   "codemirror_mode": {
    "name": "ipython",
    "version": 2
   },
   "file_extension": ".py",
   "mimetype": "text/x-python",
   "name": "python",
   "nbconvert_exporter": "python",
   "pygments_lexer": "ipython2",
   "version": "2.7.6"
  }
 },
 "nbformat": 4,
 "nbformat_minor": 5
}
